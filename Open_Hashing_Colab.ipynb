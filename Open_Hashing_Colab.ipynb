{
  "nbformat": 4,
  "nbformat_minor": 0,
  "metadata": {
    "colab": {
      "provenance": [],
      "toc_visible": true
    },
    "kernelspec": {
      "name": "python3",
      "display_name": "Python 3"
    },
    "language_info": {
      "name": "python"
    }
  },
  "cells": [
    {
      "cell_type": "code",
      "execution_count": null,
      "metadata": {
        "colab": {
          "base_uri": "https://localhost:8080/"
        },
        "id": "khh27QpDmhk_",
        "outputId": "faa38631-3175-4baf-9f69-df30698b4428"
      },
      "outputs": [
        {
          "output_type": "stream",
          "name": "stdout",
          "text": [
            "0 --> Allahabad --> Mathura \n",
            "1 --> Punjab --> Noida \n",
            "2 \n",
            "3 \n",
            "4 \n",
            "5 --> Mumbai \n",
            "6 \n",
            "7 \n",
            "8 \n",
            "9 --> Delhi \n"
          ]
        }
      ],
      "source": [
        "\n",
        "def display_hash(hashTable):\n",
        "\n",
        "    for i in range(len(hashTable)):\n",
        "        print(i, end = \" \")\n",
        "\n",
        "        for j in hashTable[i]:\n",
        "            print(\"-->\", end = \" \")\n",
        "            print(j, end = \" \")\n",
        "\n",
        "        print()\n",
        "\n",
        "HashTable = [[] for _ in range(10)]\n",
        "\n",
        "def Hashing(keyvalue):\n",
        "    return keyvalue % len(HashTable)\n",
        "\n",
        "\n",
        "def insert(Hashtable, keyvalue, value):\n",
        "\n",
        "    hash_key = Hashing(keyvalue)\n",
        "    Hashtable[hash_key].append(value)\n",
        "\n",
        "\n",
        "insert(HashTable, 10, 'Allahabad')\n",
        "insert(HashTable, 25, 'Mumbai')\n",
        "insert(HashTable, 20, 'Mathura')\n",
        "insert(HashTable, 9, 'Delhi')\n",
        "insert(HashTable, 21, 'Punjab')\n",
        "insert(HashTable, 21, 'Noida')\n",
        "\n",
        "display_hash (HashTable)"
      ]
    }
  ]
}